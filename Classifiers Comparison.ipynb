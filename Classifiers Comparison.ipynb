{
 "cells": [
  {
   "cell_type": "code",
   "execution_count": 1,
   "metadata": {},
   "outputs": [],
   "source": [
    "import pandas as pd\n",
    "\n",
    "df=pd.read_csv(\"csvs/2019-04-01.csv\")"
   ]
  },
  {
   "cell_type": "code",
   "execution_count": 2,
   "metadata": {},
   "outputs": [
    {
     "name": "stdout",
     "output_type": "stream",
     "text": [
      "csvs/2019-04-02.csv\n",
      "csvs/2019-04-03.csv\n",
      "csvs/2019-04-04.csv\n",
      "csvs/2019-04-05.csv\n",
      "csvs/2019-04-06.csv\n",
      "csvs/2019-04-07.csv\n"
     ]
    }
   ],
   "source": [
    "for i in range(2,8):\n",
    "    print(\"csvs/2019-04-{}.csv\".format('0'+str(i)))\n",
    "    temp=pd.read_csv(\"csvs/2019-04-{}.csv\".format('0'+str(i)), low_memory=False)\n",
    "    df=pd.concat([df,temp])"
   ]
  },
  {
   "cell_type": "code",
   "execution_count": 3,
   "metadata": {},
   "outputs": [
    {
     "data": {
      "text/plain": [
       "array(['MOPUB', 'GOOGLE_ADX'], dtype=object)"
      ]
     },
     "execution_count": 3,
     "metadata": {},
     "output_type": "execute_result"
    }
   ],
   "source": [
    "df.inventory_source.unique()"
   ]
  },
  {
   "cell_type": "code",
   "execution_count": 4,
   "metadata": {},
   "outputs": [
    {
     "data": {
      "text/plain": [
       "array(['video', 'banner', nan], dtype=object)"
      ]
     },
     "execution_count": 4,
     "metadata": {},
     "output_type": "execute_result"
    }
   ],
   "source": [
    "df.creative_type.unique()"
   ]
  },
  {
   "cell_type": "code",
   "execution_count": 5,
   "metadata": {},
   "outputs": [
    {
     "data": {
      "text/plain": [
       "array([['MOPUB', 'video', 0.00337],\n",
       "       ['MOPUB', 'video', 0.00337],\n",
       "       ['MOPUB', 'video', 0.00337],\n",
       "       ...,\n",
       "       ['MOPUB', nan, 0.0020800000000000003],\n",
       "       ['MOPUB', nan, 4e-05],\n",
       "       ['MOPUB', nan, 0.00085]], dtype=object)"
      ]
     },
     "execution_count": 5,
     "metadata": {},
     "output_type": "execute_result"
    }
   ],
   "source": [
    "X=df[['inventory_source','creative_type','bid_floor']].values\n",
    "X"
   ]
  },
  {
   "cell_type": "code",
   "execution_count": 6,
   "metadata": {},
   "outputs": [
    {
     "data": {
      "text/plain": [
       "array([0., 0., 0., ..., 0., 0., 0.])"
      ]
     },
     "execution_count": 6,
     "metadata": {},
     "output_type": "execute_result"
    }
   ],
   "source": [
    "y=df['clicks'].values\n",
    "y"
   ]
  },
  {
   "cell_type": "code",
   "execution_count": 7,
   "metadata": {},
   "outputs": [
    {
     "data": {
      "text/plain": [
       "array([[1, 0, 0.00337],\n",
       "       [1, 0, 0.00337],\n",
       "       [1, 0, 0.00337],\n",
       "       ...,\n",
       "       [1, -1, 0.0020800000000000003],\n",
       "       [1, -1, 4e-05],\n",
       "       [1, -1, 0.00085]], dtype=object)"
      ]
     },
     "execution_count": 7,
     "metadata": {},
     "output_type": "execute_result"
    }
   ],
   "source": [
    "for i in range(len(X)):\n",
    "    X[i][0]= int(X[i][0]=='MOPUB')\n",
    "    if X[i][1]=='video':\n",
    "        X[i][1]=0\n",
    "    elif X[i][1]=='banner':\n",
    "        X[i][1]=1\n",
    "    else:\n",
    "        X[i][1]=-1\n",
    "        \n",
    "X"
   ]
  },
  {
   "cell_type": "code",
   "execution_count": 8,
   "metadata": {},
   "outputs": [],
   "source": [
    "from imblearn.under_sampling import RandomUnderSampler\n",
    "\n",
    "X_resampled, y_resampled = RandomUnderSampler(sampling_strategy='majority',random_state=100).fit_resample(X, y)"
   ]
  },
  {
   "cell_type": "code",
   "execution_count": 9,
   "metadata": {},
   "outputs": [
    {
     "data": {
      "text/plain": [
       "array([[1, -1, 7e-05],\n",
       "       [1, -1, 8.999999999999999e-05],\n",
       "       [1, -1, 0.00139],\n",
       "       ...,\n",
       "       [1, -1, 0.0020800000000000003],\n",
       "       [1, -1, 0.0017699999999999999],\n",
       "       [1, -1, 0.00385]], dtype=object)"
      ]
     },
     "execution_count": 9,
     "metadata": {},
     "output_type": "execute_result"
    }
   ],
   "source": [
    "X_resampled"
   ]
  },
  {
   "cell_type": "code",
   "execution_count": 10,
   "metadata": {},
   "outputs": [
    {
     "data": {
      "text/plain": [
       "array([0., 0., 0., ..., 1., 1., 1.])"
      ]
     },
     "execution_count": 10,
     "metadata": {},
     "output_type": "execute_result"
    }
   ],
   "source": [
    "y_resampled"
   ]
  },
  {
   "cell_type": "code",
   "execution_count": 11,
   "metadata": {},
   "outputs": [
    {
     "data": {
      "text/plain": [
       "(285860, 5021077)"
      ]
     },
     "execution_count": 11,
     "metadata": {},
     "output_type": "execute_result"
    }
   ],
   "source": [
    "len(X_resampled), len(X)"
   ]
  },
  {
   "cell_type": "code",
   "execution_count": 12,
   "metadata": {},
   "outputs": [
    {
     "data": {
      "text/plain": [
       "(285860, 5021077)"
      ]
     },
     "execution_count": 12,
     "metadata": {},
     "output_type": "execute_result"
    }
   ],
   "source": [
    "len(y_resampled), len(y)"
   ]
  },
  {
   "cell_type": "code",
   "execution_count": 30,
   "metadata": {
    "scrolled": false
   },
   "outputs": [],
   "source": [
    "import pandas as pd\n",
    "\n",
    "test=pd.read_csv(\"csvs/2019-04-08.csv\", low_memory=False)"
   ]
  },
  {
   "cell_type": "code",
   "execution_count": 14,
   "metadata": {},
   "outputs": [
    {
     "data": {
      "text/plain": [
       "array(['MOPUB'], dtype=object)"
      ]
     },
     "execution_count": 14,
     "metadata": {},
     "output_type": "execute_result"
    }
   ],
   "source": [
    "test.inventory_source.unique()"
   ]
  },
  {
   "cell_type": "code",
   "execution_count": 15,
   "metadata": {},
   "outputs": [
    {
     "data": {
      "text/plain": [
       "array(['video', 'banner', nan], dtype=object)"
      ]
     },
     "execution_count": 15,
     "metadata": {},
     "output_type": "execute_result"
    }
   ],
   "source": [
    "test.creative_type.unique()"
   ]
  },
  {
   "cell_type": "code",
   "execution_count": 16,
   "metadata": {},
   "outputs": [
    {
     "data": {
      "text/plain": [
       "array([['MOPUB', 'video', 0.00099],\n",
       "       ['MOPUB', 'video', 0.00505],\n",
       "       ['MOPUB', 'video', 0.0016899999999999999],\n",
       "       ...,\n",
       "       ['MOPUB', nan, 0.0016699999999999998],\n",
       "       ['MOPUB', nan, 0.005889999999999999],\n",
       "       ['MOPUB', nan, 0.00673]], dtype=object)"
      ]
     },
     "execution_count": 16,
     "metadata": {},
     "output_type": "execute_result"
    }
   ],
   "source": [
    "X_test=test[['inventory_source','creative_type','bid_floor']].values\n",
    "X_test"
   ]
  },
  {
   "cell_type": "code",
   "execution_count": 17,
   "metadata": {},
   "outputs": [
    {
     "data": {
      "text/plain": [
       "array([0., 0., 0., ..., 0., 0., 0.])"
      ]
     },
     "execution_count": 17,
     "metadata": {},
     "output_type": "execute_result"
    }
   ],
   "source": [
    "y_test=test['installs'].values\n",
    "y_test"
   ]
  },
  {
   "cell_type": "code",
   "execution_count": 18,
   "metadata": {},
   "outputs": [
    {
     "data": {
      "text/plain": [
       "(1350203, 1350203)"
      ]
     },
     "execution_count": 18,
     "metadata": {},
     "output_type": "execute_result"
    }
   ],
   "source": [
    "len(X_test), len(y_test)"
   ]
  },
  {
   "cell_type": "code",
   "execution_count": 19,
   "metadata": {},
   "outputs": [
    {
     "data": {
      "text/plain": [
       "array([[1, 0, 0.00099],\n",
       "       [1, 0, 0.00505],\n",
       "       [1, 0, 0.0016899999999999999],\n",
       "       ...,\n",
       "       [1, -1, 0.0016699999999999998],\n",
       "       [1, -1, 0.005889999999999999],\n",
       "       [1, -1, 0.00673]], dtype=object)"
      ]
     },
     "execution_count": 19,
     "metadata": {},
     "output_type": "execute_result"
    }
   ],
   "source": [
    "for i in range(len(X_test)):\n",
    "    X_test[i][0]= int(X_test[i][0]=='MOPUB')\n",
    "    if X_test[i][1]=='video':\n",
    "        X_test[i][1]=0\n",
    "    elif X_test[i][1]=='banner':\n",
    "        X_test[i][1]=1\n",
    "    else:\n",
    "        X_test[i][1]=-1\n",
    "        \n",
    "X_test"
   ]
  },
  {
   "cell_type": "code",
   "execution_count": 20,
   "metadata": {},
   "outputs": [
    {
     "name": "stderr",
     "output_type": "stream",
     "text": [
      "/Library/Frameworks/Python.framework/Versions/3.7/lib/python3.7/site-packages/sklearn/linear_model/logistic.py:433: FutureWarning: Default solver will be changed to 'lbfgs' in 0.22. Specify a solver to silence this warning.\n",
      "  FutureWarning)\n"
     ]
    },
    {
     "name": "stdout",
     "output_type": "stream",
     "text": [
      "              precision    recall  f1-score   support\n",
      "\n",
      "         0.0       1.00      0.47      0.64   1350126\n",
      "         1.0       0.00      0.75      0.00        77\n",
      "\n",
      "   micro avg       0.47      0.47      0.47   1350203\n",
      "   macro avg       0.50      0.61      0.32   1350203\n",
      "weighted avg       1.00      0.47      0.64   1350203\n",
      "\n"
     ]
    },
    {
     "data": {
      "text/plain": [
       "(0.46707717283993594, 0.610153802672501)"
      ]
     },
     "execution_count": 20,
     "metadata": {},
     "output_type": "execute_result"
    }
   ],
   "source": [
    "from sklearn.linear_model import LogisticRegression\n",
    "from sklearn.metrics import classification_report, f1_score, balanced_accuracy_score\n",
    "\n",
    "LR=LogisticRegression()\n",
    "LR.fit(X_resampled,y_resampled)\n",
    "y_pred = LR.predict(X_test)\n",
    "print(classification_report(y_test, y_pred))\n",
    "f1_score(y_test, y_pred, average='micro'), balanced_accuracy_score(y_test, y_pred)"
   ]
  },
  {
   "cell_type": "code",
   "execution_count": 27,
   "metadata": {},
   "outputs": [
    {
     "name": "stdout",
     "output_type": "stream",
     "text": [
      "              precision    recall  f1-score   support\n",
      "\n",
      "         0.0       1.00      0.60      0.75   1350126\n",
      "         1.0       0.00      0.60      0.00        77\n",
      "\n",
      "   micro avg       0.60      0.60      0.60   1350203\n",
      "   macro avg       0.50      0.60      0.38   1350203\n",
      "weighted avg       1.00      0.60      0.75   1350203\n",
      "\n"
     ]
    },
    {
     "data": {
      "text/plain": [
       "(0.6010051821837161, 0.5992039925239493)"
      ]
     },
     "execution_count": 27,
     "metadata": {},
     "output_type": "execute_result"
    }
   ],
   "source": [
    "from sklearn.ensemble import BaggingClassifier\n",
    "\n",
    "bc = BaggingClassifier()\n",
    "\n",
    "bc.fit(X_resampled, y_resampled) \n",
    "y_pred = bc.predict(X_test)\n",
    "print(classification_report(y_test, y_pred))\n",
    "f1_score(y_test, y_pred, average='micro'), balanced_accuracy_score(y_test, y_pred)"
   ]
  },
  {
   "cell_type": "code",
   "execution_count": 28,
   "metadata": {},
   "outputs": [
    {
     "name": "stdout",
     "output_type": "stream",
     "text": [
      "              precision    recall  f1-score   support\n",
      "\n",
      "         0.0       1.00      0.60      0.75   1350126\n",
      "         1.0       0.00      0.60      0.00        77\n",
      "\n",
      "   micro avg       0.60      0.60      0.60   1350203\n",
      "   macro avg       0.50      0.60      0.38   1350203\n",
      "weighted avg       1.00      0.60      0.75   1350203\n",
      "\n"
     ]
    },
    {
     "data": {
      "text/plain": [
       "(0.6010051821837161, 0.5992039925239493)"
      ]
     },
     "execution_count": 28,
     "metadata": {},
     "output_type": "execute_result"
    }
   ],
   "source": [
    "from sklearn import ensemble\n",
    "\n",
    "GBclf = ensemble.GradientBoostingClassifier()\n",
    "GBclf.fit(X_resampled,y_resampled)\n",
    "y_predict=GBclf.predict(X_test)\n",
    "print(classification_report(y_test, y_pred))\n",
    "f1_score(y_test, y_pred, average='micro'), balanced_accuracy_score(y_test, y_pred)"
   ]
  },
  {
   "cell_type": "code",
   "execution_count": 29,
   "metadata": {},
   "outputs": [
    {
     "name": "stdout",
     "output_type": "stream",
     "text": [
      "              precision    recall  f1-score   support\n",
      "\n",
      "         0.0       1.00      0.60      0.75   1350126\n",
      "         1.0       0.00      0.60      0.00        77\n",
      "\n",
      "   micro avg       0.60      0.60      0.60   1350203\n",
      "   macro avg       0.50      0.60      0.38   1350203\n",
      "weighted avg       1.00      0.60      0.75   1350203\n",
      "\n"
     ]
    },
    {
     "data": {
      "text/plain": [
       "(0.6010051821837161, 0.5992039925239493)"
      ]
     },
     "execution_count": 29,
     "metadata": {},
     "output_type": "execute_result"
    }
   ],
   "source": [
    "from sklearn.ensemble import AdaBoostClassifier\n",
    "\n",
    "ABclf=AdaBoostClassifier()\n",
    "ABclf.fit(X_resampled, y_resampled)\n",
    "y_predict=ABclf.predict(X_test)\n",
    "print(classification_report(y_test, y_pred))\n",
    "f1_score(y_test, y_pred, average='micro'), balanced_accuracy_score(y_test, y_pred)"
   ]
  },
  {
   "cell_type": "code",
   "execution_count": 24,
   "metadata": {},
   "outputs": [
    {
     "name": "stderr",
     "output_type": "stream",
     "text": [
      "/Library/Frameworks/Python.framework/Versions/3.7/lib/python3.7/site-packages/sklearn/ensemble/forest.py:246: FutureWarning: The default value of n_estimators will change from 10 in version 0.20 to 100 in 0.22.\n",
      "  \"10 in version 0.20 to 100 in 0.22.\", FutureWarning)\n"
     ]
    },
    {
     "name": "stdout",
     "output_type": "stream",
     "text": [
      "              precision    recall  f1-score   support\n",
      "\n",
      "         0.0       1.00      0.60      0.75   1350126\n",
      "         1.0       0.00      0.60      0.00        77\n",
      "\n",
      "   micro avg       0.60      0.60      0.60   1350203\n",
      "   macro avg       0.50      0.60      0.37   1350203\n",
      "weighted avg       1.00      0.60      0.75   1350203\n",
      "\n"
     ]
    },
    {
     "data": {
      "text/plain": [
       "(0.5982907755352344, 0.5978467117960765)"
      ]
     },
     "execution_count": 24,
     "metadata": {},
     "output_type": "execute_result"
    }
   ],
   "source": [
    "from sklearn.ensemble import RandomForestClassifier\n",
    "\n",
    "RFclf=RandomForestClassifier()\n",
    "RFclf.fit(X_resampled, y_resampled)\n",
    "y_predict=RFclf.predict(X_test)\n",
    "print(classification_report(y_test, y_pred))\n",
    "f1_score(y_test, y_pred, average='micro'), balanced_accuracy_score(y_test, y_pred)"
   ]
  },
  {
   "cell_type": "code",
   "execution_count": 32,
   "metadata": {},
   "outputs": [
    {
     "name": "stdout",
     "output_type": "stream",
     "text": [
      "              precision    recall  f1-score   support\n",
      "\n",
      "         0.0       1.00      0.60      0.75   1350126\n",
      "         1.0       0.00      0.60      0.00        77\n",
      "\n",
      "   micro avg       0.60      0.60      0.60   1350203\n",
      "   macro avg       0.50      0.60      0.38   1350203\n",
      "weighted avg       1.00      0.60      0.75   1350203\n",
      "\n"
     ]
    },
    {
     "data": {
      "text/plain": [
       "(0.6010051821837161, 0.5992039925239493)"
      ]
     },
     "execution_count": 32,
     "metadata": {},
     "output_type": "execute_result"
    }
   ],
   "source": [
    "from sklearn.ensemble import VotingClassifier\n",
    "\n",
    "Vclf=VotingClassifier(\n",
    "    estimators=[('Bagging', bc), ('GradientBoost', GBclf), ('AdaBoost',ABclf),('RandomForest', RFclf)],\n",
    "    voting='soft')\n",
    "Vclf.fit(X_resampled, y_resampled)\n",
    "y_predict=Vclf.predict(X_test)\n",
    "print(classification_report(y_test, y_pred))\n",
    "f1_score(y_test, y_pred, average='micro'), balanced_accuracy_score(y_test, y_pred)"
   ]
  },
  {
   "cell_type": "code",
   "execution_count": 36,
   "metadata": {},
   "outputs": [
    {
     "name": "stdout",
     "output_type": "stream",
     "text": [
      "              precision    recall  f1-score   support\n",
      "\n",
      "         0.0       1.00      0.60      0.75   1350126\n",
      "         1.0       0.00      0.60      0.00        77\n",
      "\n",
      "   micro avg       0.60      0.60      0.60   1350203\n",
      "   macro avg       0.50      0.60      0.38   1350203\n",
      "weighted avg       1.00      0.60      0.75   1350203\n",
      "\n"
     ]
    },
    {
     "data": {
      "text/plain": [
       "(0.6010051821837161, 0.5992039925239493)"
      ]
     },
     "execution_count": 36,
     "metadata": {},
     "output_type": "execute_result"
    }
   ],
   "source": [
    "from sklearn.neural_network import MLPClassifier\n",
    "\n",
    "MLPclf = MLPClassifier(solver='lbfgs', alpha=1e-8, activation='logistic', \n",
    "                       hidden_layer_sizes=(5, 5), max_iter=1000, random_state=1)\n",
    "\n",
    "MLPclf.fit(X_resampled, y_resampled)\n",
    "y_predict=MLPclf.predict(X_test)\n",
    "print(classification_report(y_test, y_pred))\n",
    "f1_score(y_test, y_pred, average='micro'), balanced_accuracy_score(y_test, y_pred)\n"
   ]
  },
  {
   "cell_type": "code",
   "execution_count": null,
   "metadata": {},
   "outputs": [],
   "source": []
  }
 ],
 "metadata": {
  "kernelspec": {
   "display_name": "Python 3",
   "language": "python",
   "name": "python3"
  },
  "language_info": {
   "codemirror_mode": {
    "name": "ipython",
    "version": 3
   },
   "file_extension": ".py",
   "mimetype": "text/x-python",
   "name": "python",
   "nbconvert_exporter": "python",
   "pygments_lexer": "ipython3",
   "version": "3.7.2"
  }
 },
 "nbformat": 4,
 "nbformat_minor": 2
}
