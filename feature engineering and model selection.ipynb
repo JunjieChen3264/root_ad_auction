{
 "cells": [
  {
   "cell_type": "code",
   "execution_count": 1,
   "metadata": {},
   "outputs": [],
   "source": [
    "import pandas as pd\n",
    "\n",
    "df=pd.read_csv(\"csvs/2019-04-01.csv\")"
   ]
  },
  {
   "cell_type": "code",
   "execution_count": 2,
   "metadata": {},
   "outputs": [
    {
     "name": "stdout",
     "output_type": "stream",
     "text": [
      "csvs/2019-04-02.csv\n",
      "csvs/2019-04-03.csv\n",
      "csvs/2019-04-04.csv\n",
      "csvs/2019-04-05.csv\n",
      "csvs/2019-04-06.csv\n",
      "csvs/2019-04-07.csv\n",
      "csvs/2019-04-08.csv\n",
      "csvs/2019-04-09.csv\n",
      "csvs/2019-04-010.csv\n",
      "csvs/2019-04-011.csv\n",
      "csvs/2019-04-012.csv\n",
      "csvs/2019-04-013.csv\n",
      "csvs/2019-04-014.csv\n"
     ]
    }
   ],
   "source": [
    "for i in range(2,15):\n",
    "    print(\"csvs/2019-04-{}.csv\".format('0'+str(i) if i<10 else str(i)))\n",
    "    temp=pd.read_csv(\"csvs/2019-04-{}.csv\".format('0'+str(i) if i<10 else str(i)), low_memory=False)\n",
    "    df=pd.concat([df,temp])"
   ]
  },
  {
   "cell_type": "code",
   "execution_count": 3,
   "metadata": {},
   "outputs": [
    {
     "data": {
      "text/plain": [
       "array(['MOPUB', 'GOOGLE_ADX', 'PUBMATIC', 'RUBICON'], dtype=object)"
      ]
     },
     "execution_count": 3,
     "metadata": {},
     "output_type": "execute_result"
    }
   ],
   "source": [
    "df.inventory_source.unique()"
   ]
  },
  {
   "cell_type": "code",
   "execution_count": 4,
   "metadata": {},
   "outputs": [
    {
     "data": {
      "text/plain": [
       "array(['video', 'banner', nan], dtype=object)"
      ]
     },
     "execution_count": 4,
     "metadata": {},
     "output_type": "execute_result"
    }
   ],
   "source": [
    "df.creative_type.unique()"
   ]
  },
  {
   "cell_type": "code",
   "execution_count": 6,
   "metadata": {},
   "outputs": [
    {
     "data": {
      "text/plain": [
       "array([['MOPUB', 'video', 0.00337, 1.0],\n",
       "       ['MOPUB', 'video', 0.00337, 1.0],\n",
       "       ['MOPUB', 'video', 0.00337, 1.0],\n",
       "       ...,\n",
       "       ['MOPUB', nan, 0.00337, 0.0],\n",
       "       ['MOPUB', 'banner', 8.999999999999999e-05, 0.0],\n",
       "       ['MOPUB', nan, 8.999999999999999e-05, 0.0]], dtype=object)"
      ]
     },
     "execution_count": 6,
     "metadata": {},
     "output_type": "execute_result"
    }
   ],
   "source": [
    "X=df[['inventory_source','creative_type','bid_floor', 'rewarded']].values\n",
    "X"
   ]
  },
  {
   "cell_type": "code",
   "execution_count": 7,
   "metadata": {},
   "outputs": [
    {
     "data": {
      "text/plain": [
       "array([0., 0., 0., ..., 1., 0., 0.])"
      ]
     },
     "execution_count": 7,
     "metadata": {},
     "output_type": "execute_result"
    }
   ],
   "source": [
    "y=df['clicks'].values\n",
    "y"
   ]
  },
  {
   "cell_type": "code",
   "execution_count": 8,
   "metadata": {},
   "outputs": [
    {
     "data": {
      "text/plain": [
       "array([[1, 1, 0.00337, 1.0],\n",
       "       [1, 1, 0.00337, 1.0],\n",
       "       [1, 1, 0.00337, 1.0],\n",
       "       ...,\n",
       "       [1, 0, 0.00337, 0.0],\n",
       "       [1, 2, 8.999999999999999e-05, 0.0],\n",
       "       [1, 0, 8.999999999999999e-05, 0.0]], dtype=object)"
      ]
     },
     "execution_count": 8,
     "metadata": {},
     "output_type": "execute_result"
    }
   ],
   "source": [
    "for i in range(len(X)):\n",
    "    if X[i][0]=='MOPUB':\n",
    "        X[i][0]=1\n",
    "    elif X[i][0]=='GOOGLE_ADX':\n",
    "        X[i][0]=2\n",
    "    else:\n",
    "        X[i][0]=0\n",
    "    \n",
    "    if X[i][1]=='video':\n",
    "        X[i][1]=1\n",
    "    elif X[i][1]=='banner':\n",
    "        X[i][1]=2\n",
    "    else:\n",
    "        X[i][1]=0\n",
    "        \n",
    "    \n",
    "X"
   ]
  },
  {
   "cell_type": "code",
   "execution_count": 9,
   "metadata": {},
   "outputs": [],
   "source": [
    "from imblearn.under_sampling import RandomUnderSampler\n",
    "\n",
    "X_resampled, y_resampled = RandomUnderSampler(sampling_strategy='majority').fit_resample(X, y)"
   ]
  },
  {
   "cell_type": "code",
   "execution_count": 10,
   "metadata": {},
   "outputs": [
    {
     "data": {
      "text/plain": [
       "array([[1, 0, 0.0005899999999999999, 0.0],\n",
       "       [1, 1, 0.0016899999999999999, 0.0],\n",
       "       [1, 0, 0.00942, 0.0],\n",
       "       ...,\n",
       "       [1, 2, 0.00421, 0.0],\n",
       "       [1, 0, 0.00505, 0.0],\n",
       "       [1, 0, 0.00337, 0.0]], dtype=object)"
      ]
     },
     "execution_count": 10,
     "metadata": {},
     "output_type": "execute_result"
    }
   ],
   "source": [
    "X_resampled"
   ]
  },
  {
   "cell_type": "code",
   "execution_count": 11,
   "metadata": {},
   "outputs": [
    {
     "data": {
      "text/plain": [
       "array([0., 0., 0., ..., 1., 1., 1.])"
      ]
     },
     "execution_count": 11,
     "metadata": {},
     "output_type": "execute_result"
    }
   ],
   "source": [
    "y_resampled"
   ]
  },
  {
   "cell_type": "code",
   "execution_count": 12,
   "metadata": {},
   "outputs": [
    {
     "data": {
      "text/plain": [
       "(1250478, 15855851)"
      ]
     },
     "execution_count": 12,
     "metadata": {},
     "output_type": "execute_result"
    }
   ],
   "source": [
    "len(X_resampled), len(X)"
   ]
  },
  {
   "cell_type": "code",
   "execution_count": 13,
   "metadata": {},
   "outputs": [
    {
     "data": {
      "text/plain": [
       "(1250478, 15855851)"
      ]
     },
     "execution_count": 13,
     "metadata": {},
     "output_type": "execute_result"
    }
   ],
   "source": [
    "len(y_resampled), len(y)"
   ]
  },
  {
   "cell_type": "code",
   "execution_count": 14,
   "metadata": {
    "scrolled": false
   },
   "outputs": [],
   "source": [
    "import pandas as pd\n",
    "\n",
    "test=pd.read_csv(\"csvs/2019-04-15.csv\", low_memory=False)"
   ]
  },
  {
   "cell_type": "code",
   "execution_count": 15,
   "metadata": {},
   "outputs": [
    {
     "data": {
      "text/plain": [
       "array(['PUBMATIC', 'RUBICON', 'MOPUB', 'GOOGLE_ADX'], dtype=object)"
      ]
     },
     "execution_count": 15,
     "metadata": {},
     "output_type": "execute_result"
    }
   ],
   "source": [
    "test.inventory_source.unique()"
   ]
  },
  {
   "cell_type": "code",
   "execution_count": 16,
   "metadata": {},
   "outputs": [
    {
     "data": {
      "text/plain": [
       "array([nan, 'video', 'banner'], dtype=object)"
      ]
     },
     "execution_count": 16,
     "metadata": {},
     "output_type": "execute_result"
    }
   ],
   "source": [
    "test.creative_type.unique()"
   ]
  },
  {
   "cell_type": "code",
   "execution_count": 17,
   "metadata": {},
   "outputs": [
    {
     "data": {
      "text/plain": [
       "array([0., 1.])"
      ]
     },
     "execution_count": 17,
     "metadata": {},
     "output_type": "execute_result"
    }
   ],
   "source": [
    "test.rewarded.unique()"
   ]
  },
  {
   "cell_type": "code",
   "execution_count": 22,
   "metadata": {},
   "outputs": [
    {
     "data": {
      "text/plain": [
       "array([['PUBMATIC', nan, 0.000361, 0.0],\n",
       "       ['RUBICON', nan, 0.000411, 0.0],\n",
       "       ['PUBMATIC', nan, 0.000337, 0.0],\n",
       "       ...,\n",
       "       ['MOPUB', 'banner', 0.00139, 0.0],\n",
       "       ['MOPUB', 'banner', 0.0016899999999999999, 0.0],\n",
       "       ['MOPUB', nan, 0.00085, 0.0]], dtype=object)"
      ]
     },
     "execution_count": 22,
     "metadata": {},
     "output_type": "execute_result"
    }
   ],
   "source": [
    "X_test=test[['inventory_source','creative_type','bid_floor','rewarded']].values\n",
    "X_test"
   ]
  },
  {
   "cell_type": "code",
   "execution_count": 23,
   "metadata": {},
   "outputs": [
    {
     "data": {
      "text/plain": [
       "array([0., 0., 0., ..., 0., 0., 0.])"
      ]
     },
     "execution_count": 23,
     "metadata": {},
     "output_type": "execute_result"
    }
   ],
   "source": [
    "y_test=test['installs'].values\n",
    "y_test"
   ]
  },
  {
   "cell_type": "code",
   "execution_count": 24,
   "metadata": {},
   "outputs": [
    {
     "data": {
      "text/plain": [
       "(982394, 982394)"
      ]
     },
     "execution_count": 24,
     "metadata": {},
     "output_type": "execute_result"
    }
   ],
   "source": [
    "len(X_test), len(y_test)"
   ]
  },
  {
   "cell_type": "code",
   "execution_count": 25,
   "metadata": {},
   "outputs": [
    {
     "data": {
      "text/plain": [
       "array([[0, 0, 0.000361, 0.0],\n",
       "       [0, 0, 0.000411, 0.0],\n",
       "       [0, 0, 0.000337, 0.0],\n",
       "       ...,\n",
       "       [1, 2, 0.00139, 0.0],\n",
       "       [1, 2, 0.0016899999999999999, 0.0],\n",
       "       [1, 0, 0.00085, 0.0]], dtype=object)"
      ]
     },
     "execution_count": 25,
     "metadata": {},
     "output_type": "execute_result"
    }
   ],
   "source": [
    "for i in range(len(X_test)):\n",
    "    if X_test[i][0]=='MOPUB':\n",
    "        X_test[i][0]=1\n",
    "    elif X_test[i][0]=='GOOGLE_ADX':\n",
    "        X_test[i][0]=2\n",
    "    else:\n",
    "        X_test[i][0]=0\n",
    "    \n",
    "    if X_test[i][1]=='video':\n",
    "        X_test[i][1]=1\n",
    "    elif X_test[i][1]=='banner':\n",
    "        X_test[i][1]=2\n",
    "    else:\n",
    "        X_test[i][1]=0\n",
    "\n",
    "    \n",
    "X_test"
   ]
  },
  {
   "cell_type": "code",
   "execution_count": 26,
   "metadata": {},
   "outputs": [
    {
     "name": "stderr",
     "output_type": "stream",
     "text": [
      "/Library/Frameworks/Python.framework/Versions/3.7/lib/python3.7/site-packages/sklearn/linear_model/logistic.py:433: FutureWarning: Default solver will be changed to 'lbfgs' in 0.22. Specify a solver to silence this warning.\n",
      "  FutureWarning)\n"
     ]
    },
    {
     "name": "stdout",
     "output_type": "stream",
     "text": [
      "              precision    recall  f1-score   support\n",
      "\n",
      "         0.0       1.00      0.52      0.69    982321\n",
      "         1.0       0.00      0.49      0.00        73\n",
      "\n",
      "   micro avg       0.52      0.52      0.52    982394\n",
      "   macro avg       0.50      0.51      0.34    982394\n",
      "weighted avg       1.00      0.52      0.69    982394\n",
      "\n"
     ]
    },
    {
     "data": {
      "text/plain": [
       "(0.0001535872215431676, 0.5080178851783698)"
      ]
     },
     "execution_count": 26,
     "metadata": {},
     "output_type": "execute_result"
    }
   ],
   "source": [
    "from sklearn.linear_model import LogisticRegression\n",
    "from sklearn.metrics import classification_report, f1_score, balanced_accuracy_score\n",
    "\n",
    "LR=LogisticRegression()\n",
    "LR.fit(X_resampled,y_resampled)\n",
    "y1 = LR.predict(X_test)\n",
    "print(classification_report(y_test, y1))\n",
    "f1_score(y_test, y1), balanced_accuracy_score(y_test, y1)"
   ]
  },
  {
   "cell_type": "code",
   "execution_count": 27,
   "metadata": {},
   "outputs": [
    {
     "name": "stdout",
     "output_type": "stream",
     "text": [
      "              precision    recall  f1-score   support\n",
      "\n",
      "         0.0       1.00      0.22      0.36    982321\n",
      "         1.0       0.00      0.86      0.00        73\n",
      "\n",
      "   micro avg       0.22      0.22      0.22    982394\n",
      "   macro avg       0.50      0.54      0.18    982394\n",
      "weighted avg       1.00      0.22      0.36    982394\n",
      "\n"
     ]
    },
    {
     "data": {
      "text/plain": [
       "(0.00016388026855553852, 0.5402304742808384)"
      ]
     },
     "execution_count": 27,
     "metadata": {},
     "output_type": "execute_result"
    }
   ],
   "source": [
    "from sklearn.ensemble import BaggingClassifier\n",
    "\n",
    "bc = BaggingClassifier()\n",
    "\n",
    "bc.fit(X_resampled, y_resampled) \n",
    "y2 = bc.predict(X_test)\n",
    "print(classification_report(y_test, y2))\n",
    "f1_score(y_test, y2), balanced_accuracy_score(y_test, y2)"
   ]
  },
  {
   "cell_type": "code",
   "execution_count": 28,
   "metadata": {},
   "outputs": [
    {
     "name": "stdout",
     "output_type": "stream",
     "text": [
      "              precision    recall  f1-score   support\n",
      "\n",
      "         0.0       1.00      0.28      0.44    982321\n",
      "         1.0       0.00      0.78      0.00        73\n",
      "\n",
      "   micro avg       0.28      0.28      0.28    982394\n",
      "   macro avg       0.50      0.53      0.22    982394\n",
      "weighted avg       1.00      0.28      0.44    982394\n",
      "\n"
     ]
    },
    {
     "data": {
      "text/plain": [
       "(0.00016204322289756028, 0.5323884794905573)"
      ]
     },
     "execution_count": 28,
     "metadata": {},
     "output_type": "execute_result"
    }
   ],
   "source": [
    "from sklearn import ensemble\n",
    "\n",
    "GBclf = ensemble.GradientBoostingClassifier()\n",
    "GBclf.fit(X_resampled,y_resampled)\n",
    "y3=GBclf.predict(X_test)\n",
    "print(classification_report(y_test, y3))\n",
    "f1_score(y_test, y3), balanced_accuracy_score(y_test, y3)"
   ]
  },
  {
   "cell_type": "code",
   "execution_count": 31,
   "metadata": {},
   "outputs": [
    {
     "name": "stdout",
     "output_type": "stream",
     "text": [
      "              precision    recall  f1-score   support\n",
      "\n",
      "         0.0       1.00      0.43      0.60    982321\n",
      "         1.0       0.00      0.55      0.00        73\n",
      "\n",
      "   micro avg       0.43      0.43      0.43    982394\n",
      "   macro avg       0.50      0.49      0.30    982394\n",
      "weighted avg       1.00      0.43      0.60    982394\n",
      "\n"
     ]
    },
    {
     "data": {
      "text/plain": [
       "(0.00014264928247410916, 0.4885755685726869)"
      ]
     },
     "execution_count": 31,
     "metadata": {},
     "output_type": "execute_result"
    }
   ],
   "source": [
    "from sklearn.ensemble import AdaBoostClassifier\n",
    "\n",
    "ABclf=AdaBoostClassifier()\n",
    "ABclf.fit(X_resampled, y_resampled)\n",
    "y4=ABclf.predict(X_test)\n",
    "print(classification_report(y_test, y4))\n",
    "f1_score(y_test, y4), balanced_accuracy_score(y_test, y4)"
   ]
  },
  {
   "cell_type": "code",
   "execution_count": 32,
   "metadata": {},
   "outputs": [
    {
     "name": "stderr",
     "output_type": "stream",
     "text": [
      "/Library/Frameworks/Python.framework/Versions/3.7/lib/python3.7/site-packages/sklearn/ensemble/forest.py:246: FutureWarning: The default value of n_estimators will change from 10 in version 0.20 to 100 in 0.22.\n",
      "  \"10 in version 0.20 to 100 in 0.22.\", FutureWarning)\n"
     ]
    },
    {
     "name": "stdout",
     "output_type": "stream",
     "text": [
      "              precision    recall  f1-score   support\n",
      "\n",
      "         0.0       1.00      0.22      0.36    982321\n",
      "         1.0       0.00      0.86      0.00        73\n",
      "\n",
      "   micro avg       0.22      0.22      0.22    982394\n",
      "   macro avg       0.50      0.54      0.18    982394\n",
      "weighted avg       1.00      0.22      0.36    982394\n",
      "\n"
     ]
    },
    {
     "data": {
      "text/plain": [
       "(0.00016378696255778038, 0.5400075329001695)"
      ]
     },
     "execution_count": 32,
     "metadata": {},
     "output_type": "execute_result"
    }
   ],
   "source": [
    "from sklearn.ensemble import RandomForestClassifier\n",
    "\n",
    "RFclf=RandomForestClassifier()\n",
    "RFclf.fit(X_resampled, y_resampled)\n",
    "y5=RFclf.predict(X_test)\n",
    "print(classification_report(y_test, y5))\n",
    "f1_score(y_test, y5), balanced_accuracy_score(y_test, y5)"
   ]
  },
  {
   "cell_type": "code",
   "execution_count": 34,
   "metadata": {},
   "outputs": [
    {
     "name": "stdout",
     "output_type": "stream",
     "text": [
      "              precision    recall  f1-score   support\n",
      "\n",
      "         0.0       1.00      0.23      0.37    982321\n",
      "         1.0       0.00      0.84      0.00        73\n",
      "\n",
      "   micro avg       0.23      0.23      0.23    982394\n",
      "   macro avg       0.50      0.53      0.18    982394\n",
      "weighted avg       1.00      0.23      0.37    982394\n",
      "\n"
     ]
    },
    {
     "data": {
      "text/plain": [
       "(0.00016036257715805967, 0.5306425167244037)"
      ]
     },
     "execution_count": 34,
     "metadata": {},
     "output_type": "execute_result"
    }
   ],
   "source": [
    "from sklearn.ensemble import VotingClassifier\n",
    "\n",
    "Vclf=VotingClassifier(\n",
    "    estimators=[('Bagging', bc), ('GradientBoost', GBclf), ('RandomForest', RFclf)],\n",
    "    voting='soft')\n",
    "Vclf.fit(X_resampled, y_resampled)\n",
    "y_pred=Vclf.predict(X_test)\n",
    "print(classification_report(y_test, y_pred))\n",
    "f1_score(y_test, y_pred), balanced_accuracy_score(y_test, y_pred)"
   ]
  },
  {
   "cell_type": "code",
   "execution_count": null,
   "metadata": {},
   "outputs": [],
   "source": [
    "from sklearn.neural_network import MLPClassifier\n",
    "\n",
    "MLPclf = MLPClassifier(solver='lbfgs', alpha=1e-8, activation='logistic', \n",
    "                       hidden_layer_sizes=(5, 4), max_iter=1000)\n",
    "\n",
    "MLPclf.fit(X_resampled, y_resampled)\n",
    "y6=MLPclf.predict(X_test)\n",
    "print(classification_report(y_test, y6))\n",
    "f1_score(y_test, y6), balanced_accuracy_score(y_test, y6)\n"
   ]
  },
  {
   "cell_type": "code",
   "execution_count": null,
   "metadata": {},
   "outputs": [],
   "source": []
  }
 ],
 "metadata": {
  "kernelspec": {
   "display_name": "Python 3",
   "language": "python",
   "name": "python3"
  },
  "language_info": {
   "codemirror_mode": {
    "name": "ipython",
    "version": 3
   },
   "file_extension": ".py",
   "mimetype": "text/x-python",
   "name": "python",
   "nbconvert_exporter": "python",
   "pygments_lexer": "ipython3",
   "version": "3.7.2"
  }
 },
 "nbformat": 4,
 "nbformat_minor": 2
}
