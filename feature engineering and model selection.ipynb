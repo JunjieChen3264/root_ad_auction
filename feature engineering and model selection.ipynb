{
 "cells": [
  {
   "cell_type": "code",
   "execution_count": 1,
   "metadata": {},
   "outputs": [],
   "source": [
    "import pandas as pd\n",
    "\n",
    "df=pd.read_csv(\"csvs/2019-04-01.csv\")"
   ]
  },
  {
   "cell_type": "code",
   "execution_count": 2,
   "metadata": {},
   "outputs": [
    {
     "name": "stdout",
     "output_type": "stream",
     "text": [
      "csvs/2019-04-02.csv\n",
      "csvs/2019-04-03.csv\n",
      "csvs/2019-04-04.csv\n",
      "csvs/2019-04-05.csv\n",
      "csvs/2019-04-06.csv\n",
      "csvs/2019-04-07.csv\n"
     ]
    }
   ],
   "source": [
    "for i in range(2,8):\n",
    "    print(\"csvs/2019-04-{}.csv\".format('0'+str(i) if i<10 else str(i)))\n",
    "    temp=pd.read_csv(\"csvs/2019-04-{}.csv\".format('0'+str(i) if i<10 else str(i)), low_memory=False)\n",
    "    df=pd.concat([df,temp])"
   ]
  },
  {
   "cell_type": "code",
   "execution_count": 3,
   "metadata": {},
   "outputs": [
    {
     "data": {
      "text/plain": [
       "array(['MOPUB', 'GOOGLE_ADX'], dtype=object)"
      ]
     },
     "execution_count": 3,
     "metadata": {},
     "output_type": "execute_result"
    }
   ],
   "source": [
    "df.inventory_source.unique()"
   ]
  },
  {
   "cell_type": "code",
   "execution_count": 4,
   "metadata": {},
   "outputs": [
    {
     "data": {
      "text/plain": [
       "array(['video', 'banner', nan], dtype=object)"
      ]
     },
     "execution_count": 4,
     "metadata": {},
     "output_type": "execute_result"
    }
   ],
   "source": [
    "df.creative_type.unique()"
   ]
  },
  {
   "cell_type": "code",
   "execution_count": 5,
   "metadata": {},
   "outputs": [
    {
     "data": {
      "text/plain": [
       "array([['MOPUB', 'video', '19:00', 0.00337, 1.0],\n",
       "       ['MOPUB', 'video', '19:00', 0.00337, 1.0],\n",
       "       ['MOPUB', 'video', '19:00', 0.00337, 1.0],\n",
       "       ...,\n",
       "       ['MOPUB', nan, '11:00', 0.0020800000000000003, 0.0],\n",
       "       ['MOPUB', nan, '13:00', 4e-05, 0.0],\n",
       "       ['MOPUB', nan, '15:00', 0.00085, 0.0]], dtype=object)"
      ]
     },
     "execution_count": 5,
     "metadata": {},
     "output_type": "execute_result"
    }
   ],
   "source": [
    "X=df[['inventory_source','creative_type','hour','bid_floor', 'rewarded']].values\n",
    "X"
   ]
  },
  {
   "cell_type": "code",
   "execution_count": 6,
   "metadata": {},
   "outputs": [
    {
     "data": {
      "text/plain": [
       "array([0., 0., 0., ..., 0., 0., 0.])"
      ]
     },
     "execution_count": 6,
     "metadata": {},
     "output_type": "execute_result"
    }
   ],
   "source": [
    "y=df['clicks'].values\n",
    "y"
   ]
  },
  {
   "cell_type": "code",
   "execution_count": 7,
   "metadata": {},
   "outputs": [
    {
     "data": {
      "text/plain": [
       "array([[1, 1, 19, 0.00337, 1.0],\n",
       "       [1, 1, 19, 0.00337, 1.0],\n",
       "       [1, 1, 19, 0.00337, 1.0],\n",
       "       ...,\n",
       "       [1, 0, 11, 0.0020800000000000003, 0.0],\n",
       "       [1, 0, 13, 4e-05, 0.0],\n",
       "       [1, 0, 15, 0.00085, 0.0]], dtype=object)"
      ]
     },
     "execution_count": 7,
     "metadata": {},
     "output_type": "execute_result"
    }
   ],
   "source": [
    "for i in range(len(X)):\n",
    "    if X[i][0]=='MOPUB':\n",
    "        X[i][0]=1\n",
    "    elif X[i][0]=='GOOGLE_ADX':\n",
    "        X[i][0]=2\n",
    "    else:\n",
    "        X[i][0]=0\n",
    "    \n",
    "    if X[i][1]=='video':\n",
    "        X[i][1]=1\n",
    "    elif X[i][1]=='banner':\n",
    "        X[i][1]=2\n",
    "    else:\n",
    "        X[i][1]=0\n",
    "        \n",
    "    X[i][2]=int(str(X[i][2][:2]))\n",
    "    \n",
    "X"
   ]
  },
  {
   "cell_type": "code",
   "execution_count": 8,
   "metadata": {},
   "outputs": [],
   "source": [
    "from imblearn.under_sampling import RandomUnderSampler\n",
    "\n",
    "X_resampled, y_resampled = RandomUnderSampler(sampling_strategy='majority').fit_resample(X, y)"
   ]
  },
  {
   "cell_type": "code",
   "execution_count": 9,
   "metadata": {},
   "outputs": [
    {
     "data": {
      "text/plain": [
       "array([[1, 0, 1, 0.00419, 0.0],\n",
       "       [1, 0, 20, 0.00505, 0.0],\n",
       "       [1, 0, 2, 0.00085, 0.0],\n",
       "       ...,\n",
       "       [1, 0, 13, 0.0020800000000000003, 0.0],\n",
       "       [1, 0, 10, 0.0017699999999999999, 0.0],\n",
       "       [1, 0, 13, 0.00385, 0.0]], dtype=object)"
      ]
     },
     "execution_count": 9,
     "metadata": {},
     "output_type": "execute_result"
    }
   ],
   "source": [
    "X_resampled"
   ]
  },
  {
   "cell_type": "code",
   "execution_count": 10,
   "metadata": {},
   "outputs": [
    {
     "data": {
      "text/plain": [
       "array([0., 0., 0., ..., 1., 1., 1.])"
      ]
     },
     "execution_count": 10,
     "metadata": {},
     "output_type": "execute_result"
    }
   ],
   "source": [
    "y_resampled"
   ]
  },
  {
   "cell_type": "code",
   "execution_count": 11,
   "metadata": {},
   "outputs": [
    {
     "data": {
      "text/plain": [
       "(285860, 5021077)"
      ]
     },
     "execution_count": 11,
     "metadata": {},
     "output_type": "execute_result"
    }
   ],
   "source": [
    "len(X_resampled), len(X)"
   ]
  },
  {
   "cell_type": "code",
   "execution_count": 12,
   "metadata": {},
   "outputs": [
    {
     "data": {
      "text/plain": [
       "(285860, 5021077)"
      ]
     },
     "execution_count": 12,
     "metadata": {},
     "output_type": "execute_result"
    }
   ],
   "source": [
    "len(y_resampled), len(y)"
   ]
  },
  {
   "cell_type": "code",
   "execution_count": 13,
   "metadata": {
    "scrolled": false
   },
   "outputs": [],
   "source": [
    "import pandas as pd\n",
    "\n",
    "test=pd.read_csv(\"csvs/2019-04-15.csv\", low_memory=False)"
   ]
  },
  {
   "cell_type": "code",
   "execution_count": 14,
   "metadata": {},
   "outputs": [
    {
     "data": {
      "text/plain": [
       "array(['PUBMATIC', 'RUBICON', 'MOPUB', 'GOOGLE_ADX'], dtype=object)"
      ]
     },
     "execution_count": 14,
     "metadata": {},
     "output_type": "execute_result"
    }
   ],
   "source": [
    "test.inventory_source.unique()"
   ]
  },
  {
   "cell_type": "code",
   "execution_count": 15,
   "metadata": {},
   "outputs": [
    {
     "data": {
      "text/plain": [
       "array([nan, 'video', 'banner'], dtype=object)"
      ]
     },
     "execution_count": 15,
     "metadata": {},
     "output_type": "execute_result"
    }
   ],
   "source": [
    "test.creative_type.unique()"
   ]
  },
  {
   "cell_type": "code",
   "execution_count": 16,
   "metadata": {},
   "outputs": [
    {
     "data": {
      "text/plain": [
       "array([['PUBMATIC', nan, '21:00', 0.000361, 0.0],\n",
       "       ['RUBICON', nan, '21:00', 0.000411, 0.0],\n",
       "       ['PUBMATIC', nan, '21:00', 0.000337, 0.0],\n",
       "       ...,\n",
       "       ['MOPUB', 'banner', '16:00', 0.00139, 0.0],\n",
       "       ['MOPUB', 'banner', '16:00', 0.0016899999999999999, 0.0],\n",
       "       ['MOPUB', nan, '16:00', 0.00085, 0.0]], dtype=object)"
      ]
     },
     "execution_count": 16,
     "metadata": {},
     "output_type": "execute_result"
    }
   ],
   "source": [
    "X_test=test[['inventory_source','creative_type','hour','bid_floor','rewarded']].values\n",
    "X_test"
   ]
  },
  {
   "cell_type": "code",
   "execution_count": 17,
   "metadata": {},
   "outputs": [
    {
     "data": {
      "text/plain": [
       "array([0., 0., 0., ..., 0., 0., 0.])"
      ]
     },
     "execution_count": 17,
     "metadata": {},
     "output_type": "execute_result"
    }
   ],
   "source": [
    "y_test=test['clicks'].values\n",
    "y_test"
   ]
  },
  {
   "cell_type": "code",
   "execution_count": 18,
   "metadata": {},
   "outputs": [
    {
     "data": {
      "text/plain": [
       "(982394, 982394, 74299.0)"
      ]
     },
     "execution_count": 18,
     "metadata": {},
     "output_type": "execute_result"
    }
   ],
   "source": [
    "len(X_test), len(y_test), sum(y_test)"
   ]
  },
  {
   "cell_type": "code",
   "execution_count": 19,
   "metadata": {},
   "outputs": [
    {
     "data": {
      "text/plain": [
       "array([[0, 0, 21, 0.000361, 0.0],\n",
       "       [0, 0, 21, 0.000411, 0.0],\n",
       "       [0, 0, 21, 0.000337, 0.0],\n",
       "       ...,\n",
       "       [1, 2, 16, 0.00139, 0.0],\n",
       "       [1, 2, 16, 0.0016899999999999999, 0.0],\n",
       "       [1, 0, 16, 0.00085, 0.0]], dtype=object)"
      ]
     },
     "execution_count": 19,
     "metadata": {},
     "output_type": "execute_result"
    }
   ],
   "source": [
    "for i in range(len(X_test)):\n",
    "    if X_test[i][0]=='MOPUB':\n",
    "        X_test[i][0]=1\n",
    "    elif X_test[i][0]=='GOOGLE_ADX':\n",
    "        X_test[i][0]=2\n",
    "    else:\n",
    "        X_test[i][0]=0\n",
    "    \n",
    "    if X_test[i][1]=='video':\n",
    "        X_test[i][1]=1\n",
    "    elif X_test[i][1]=='banner':\n",
    "        X_test[i][1]=2\n",
    "    else:\n",
    "        X_test[i][1]=0\n",
    "        \n",
    "    X_test[i][2]=int(str(X_test[i][2][:2]))\n",
    "\n",
    "    \n",
    "X_test"
   ]
  },
  {
   "cell_type": "code",
   "execution_count": 28,
   "metadata": {},
   "outputs": [
    {
     "name": "stdout",
     "output_type": "stream",
     "text": [
      "              precision    recall  f1-score   support\n",
      "\n",
      "         0.0       0.93      0.54      0.68    908095\n",
      "         1.0       0.08      0.52      0.14     74299\n",
      "\n",
      "   micro avg       0.54      0.54      0.54    982394\n",
      "   macro avg       0.51      0.53      0.41    982394\n",
      "weighted avg       0.87      0.54      0.64    982394\n",
      "\n"
     ]
    },
    {
     "data": {
      "text/plain": [
       "(0.14409683175145815, 0.5269952110745642)"
      ]
     },
     "execution_count": 28,
     "metadata": {},
     "output_type": "execute_result"
    }
   ],
   "source": [
    "from sklearn.linear_model import LogisticRegression\n",
    "from sklearn.metrics import classification_report, f1_score, balanced_accuracy_score\n",
    "\n",
    "LR=LogisticRegression(solver='lbfgs')\n",
    "LR.fit(X_resampled,y_resampled)\n",
    "y1 = LR.predict(X_test)\n",
    "print(classification_report(y_test, y1))\n",
    "f1_score(y_test, y1), balanced_accuracy_score(y_test, y1)"
   ]
  },
  {
   "cell_type": "code",
   "execution_count": 29,
   "metadata": {},
   "outputs": [
    {
     "data": {
      "text/plain": [
       "(982394, 459245.0, 74299.0, 456662.0)"
      ]
     },
     "execution_count": 29,
     "metadata": {},
     "output_type": "execute_result"
    }
   ],
   "source": [
    "len(y1),sum(y1),sum(y_test),sum(abs(y1-y_test))"
   ]
  },
  {
   "cell_type": "code",
   "execution_count": 33,
   "metadata": {},
   "outputs": [
    {
     "name": "stdout",
     "output_type": "stream",
     "text": [
      "              precision    recall  f1-score   support\n",
      "\n",
      "         0.0       0.94      0.39      0.55    908095\n",
      "         1.0       0.08      0.69      0.15     74299\n",
      "\n",
      "   micro avg       0.41      0.41      0.41    982394\n",
      "   macro avg       0.51      0.54      0.35    982394\n",
      "weighted avg       0.87      0.41      0.52    982394\n",
      "\n"
     ]
    },
    {
     "data": {
      "text/plain": [
       "(0.15010508672397074, 0.538032170340941)"
      ]
     },
     "execution_count": 33,
     "metadata": {},
     "output_type": "execute_result"
    }
   ],
   "source": [
    "from sklearn.ensemble import BaggingClassifier\n",
    "\n",
    "bc = BaggingClassifier(random_state=10000)\n",
    "\n",
    "bc.fit(X_resampled, y_resampled) \n",
    "y2 = bc.predict(X_test)\n",
    "print(classification_report(y_test, y2))\n",
    "f1_score(y_test, y2), balanced_accuracy_score(y_test, y2)"
   ]
  },
  {
   "cell_type": "code",
   "execution_count": 34,
   "metadata": {},
   "outputs": [
    {
     "data": {
      "text/plain": [
       "(982394, 609422.0, 74299.0, 581091.0)"
      ]
     },
     "execution_count": 34,
     "metadata": {},
     "output_type": "execute_result"
    }
   ],
   "source": [
    "len(y2),sum(y2),sum(y_test),sum(abs(y2-y_test))"
   ]
  },
  {
   "cell_type": "code",
   "execution_count": 37,
   "metadata": {},
   "outputs": [
    {
     "name": "stdout",
     "output_type": "stream",
     "text": [
      "              precision    recall  f1-score   support\n",
      "\n",
      "         0.0       0.93      0.54      0.68    908095\n",
      "         1.0       0.08      0.52      0.14     74299\n",
      "\n",
      "   micro avg       0.54      0.54      0.54    982394\n",
      "   macro avg       0.51      0.53      0.41    982394\n",
      "weighted avg       0.87      0.54      0.64    982394\n",
      "\n"
     ]
    },
    {
     "data": {
      "text/plain": [
       "(0.14455153219057648, 0.5279219988230657)"
      ]
     },
     "execution_count": 37,
     "metadata": {},
     "output_type": "execute_result"
    }
   ],
   "source": [
    "from sklearn import ensemble\n",
    "\n",
    "GBclf = ensemble.GradientBoostingClassifier(learning_rate=0.001)\n",
    "GBclf.fit(X_resampled,y_resampled)\n",
    "y3=GBclf.predict(X_test)\n",
    "print(classification_report(y_test, y3))\n",
    "f1_score(y_test, y3), balanced_accuracy_score(y_test, y3)"
   ]
  },
  {
   "cell_type": "code",
   "execution_count": 38,
   "metadata": {},
   "outputs": [
    {
     "data": {
      "text/plain": [
       "(982394, 457456.0, 74299.0, 454889.0)"
      ]
     },
     "execution_count": 38,
     "metadata": {},
     "output_type": "execute_result"
    }
   ],
   "source": [
    "len(y3),sum(y3),sum(y_test),sum(abs(y3-y_test))"
   ]
  },
  {
   "cell_type": "code",
   "execution_count": null,
   "metadata": {},
   "outputs": [],
   "source": [
    "from sklearn.ensemble import AdaBoostClassifier\n",
    "\n",
    "ABclf=AdaBoostClassifier()\n",
    "ABclf.fit(X_resampled, y_resampled)\n",
    "y4=ABclf.predict(X_test)\n",
    "print(classification_report(y_test, y4))\n",
    "f1_score(y_test, y4), balanced_accuracy_score(y_test, y4)"
   ]
  },
  {
   "cell_type": "code",
   "execution_count": null,
   "metadata": {},
   "outputs": [],
   "source": [
    "len(y4),sum(y4),sum(y_test),sum(abs(y4-y_test))"
   ]
  },
  {
   "cell_type": "code",
   "execution_count": null,
   "metadata": {},
   "outputs": [],
   "source": [
    "from sklearn.ensemble import RandomForestClassifier\n",
    "\n",
    "RFclf=RandomForestClassifier()\n",
    "RFclf.fit(X_resampled, y_resampled)\n",
    "y5=RFclf.predict(X_test)\n",
    "print(classification_report(y_test, y5))\n",
    "f1_score(y_test, y5), balanced_accuracy_score(y_test, y5)"
   ]
  },
  {
   "cell_type": "code",
   "execution_count": null,
   "metadata": {},
   "outputs": [],
   "source": [
    "len(y5),sum(y5),sum(y_test),sum(abs(y5-y_test))"
   ]
  },
  {
   "cell_type": "code",
   "execution_count": null,
   "metadata": {},
   "outputs": [],
   "source": [
    "from sklearn.ensemble import VotingClassifier\n",
    "\n",
    "Vclf=VotingClassifier(\n",
    "    estimators=[('Bagging', bc), ('GradientBoost', GBclf), ('RandomForest', RFclf)],\n",
    "    voting='soft')\n",
    "Vclf.fit(X_resampled, y_resampled)\n",
    "y_pred=Vclf.predict(X_test)\n",
    "print(classification_report(y_test, y_pred))\n",
    "f1_score(y_test, y_pred), balanced_accuracy_score(y_test, y_pred)"
   ]
  },
  {
   "cell_type": "code",
   "execution_count": null,
   "metadata": {},
   "outputs": [],
   "source": [
    "from sklearn.neural_network import MLPClassifier\n",
    "\n",
    "MLPclf = MLPClassifier(solver='lbfgs', alpha=1e-8, activation='logistic', \n",
    "                       hidden_layer_sizes=(5, 4), max_iter=1000)\n",
    "\n",
    "MLPclf.fit(X_resampled, y_resampled)\n",
    "y6=MLPclf.predict(X_test)\n",
    "print(classification_report(y_test, y6))\n",
    "f1_score(y_test, y6), balanced_accuracy_score(y_test, y6)\n"
   ]
  },
  {
   "cell_type": "code",
   "execution_count": null,
   "metadata": {},
   "outputs": [],
   "source": [
    "len(y6),sum(y6),sum(y_test),sum(abs(y6-y_test))"
   ]
  }
 ],
 "metadata": {
  "kernelspec": {
   "display_name": "Python 3",
   "language": "python",
   "name": "python3"
  },
  "language_info": {
   "codemirror_mode": {
    "name": "ipython",
    "version": 3
   },
   "file_extension": ".py",
   "mimetype": "text/x-python",
   "name": "python",
   "nbconvert_exporter": "python",
   "pygments_lexer": "ipython3",
   "version": "3.7.2"
  }
 },
 "nbformat": 4,
 "nbformat_minor": 2
}
